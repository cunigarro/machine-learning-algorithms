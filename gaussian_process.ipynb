{
 "cells": [
  {
   "cell_type": "markdown",
   "id": "9e81fecc-84c1-4f31-83b8-eedfe983c63b",
   "metadata": {},
   "source": [
    "## Gaussian Process\n",
    "\n",
    "https://jakevdp.github.io/PythonDataScienceHandbook/05.10-manifold-learning.html\n",
    "\n",
    "Book for Gaussian Processes: https://direct.mit.edu/books/book/2320/Gaussian-Processes-for-Machine-Learning\n",
    "\n",
    "https://www.youtube.com/watch?v=Ka2K5T7XZcI"
   ]
  },
  {
   "cell_type": "code",
   "execution_count": null,
   "id": "f72c7fbf-9d2b-4af7-a6ce-95b108164639",
   "metadata": {},
   "outputs": [],
   "source": []
  }
 ],
 "metadata": {
  "kernelspec": {
   "display_name": "Python 3 (ipykernel)",
   "language": "python",
   "name": "python3"
  },
  "language_info": {
   "codemirror_mode": {
    "name": "ipython",
    "version": 3
   },
   "file_extension": ".py",
   "mimetype": "text/x-python",
   "name": "python",
   "nbconvert_exporter": "python",
   "pygments_lexer": "ipython3",
   "version": "3.9.16"
  }
 },
 "nbformat": 4,
 "nbformat_minor": 5
}
